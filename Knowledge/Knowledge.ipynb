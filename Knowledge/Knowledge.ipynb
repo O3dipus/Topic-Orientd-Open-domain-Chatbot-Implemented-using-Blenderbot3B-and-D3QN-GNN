{
 "cells": [
  {
   "cell_type": "markdown",
   "metadata": {},
   "source": [
    "## Use of ConceptNet"
   ]
  },
  {
   "cell_type": "code",
   "execution_count": 1,
   "metadata": {},
   "outputs": [],
   "source": [
    "import time\n",
    "import importlib\n",
    "import torch\n",
    "from torch import nn\n",
    "import torch.nn.functional as F\n",
    "from Knowledge.ConceptNet import ConceptNet"
   ]
  },
  {
   "cell_type": "code",
   "execution_count": 2,
   "outputs": [
    {
     "name": "stdout",
     "output_type": "stream",
     "text": [
      "[ConceptNet Constructing] Using GLoVe\n",
      "[ConceptNet Constructing] Load ConceptNet from file\n"
     ]
    },
    {
     "name": "stderr",
     "output_type": "stream",
     "text": [
      "100%|██████████| 2206782/2206782 [00:10<00:00, 215997.68it/s]\n"
     ]
    }
   ],
   "source": [
    "conceptnet = ConceptNet('./Data/', numberbatch=False)\n",
    "GLoVe = nn.Embedding.from_pretrained(conceptnet.concept_embedding.vectors).cuda()"
   ],
   "metadata": {
    "collapsed": false,
    "pycharm": {
     "name": "#%%\n"
    }
   }
  },
  {
   "cell_type": "code",
   "execution_count": 19,
   "outputs": [
    {
     "data": {
      "text/plain": "1.8277370145258411"
     },
     "execution_count": 19,
     "metadata": {},
     "output_type": "execute_result"
    }
   ],
   "source": [
    "import networkx as nx\n",
    "import time\n",
    "\n",
    "\n",
    "s = time.time()\n",
    "\n",
    "nx.shortest_path_length(conceptnet.conceptnet, 'hydrogen', 'kiwifruit', weight='weight')"
   ],
   "metadata": {
    "collapsed": false,
    "pycharm": {
     "name": "#%%\n"
    }
   }
  },
  {
   "cell_type": "code",
   "execution_count": 27,
   "outputs": [
    {
     "name": "stdout",
     "output_type": "stream",
     "text": [
      "torch.Size([300])\n"
     ]
    },
    {
     "data": {
      "text/plain": "1.615630785624186e-05"
     },
     "execution_count": 27,
     "metadata": {},
     "output_type": "execute_result"
    }
   ],
   "source": [
    "print(torch.zeros(300).shape)\n",
    "t = 0\n",
    "for i in range(30000):\n",
    "    v1 = torch.rand(300)\n",
    "    nt1 = time.time()\n",
    "    F.cosine_similarity(conceptnet.concept_embedding['food'], v1, dim=0)\n",
    "    nt2 = time.time()\n",
    "    t += (nt2-nt1)\n",
    "t / 30000"
   ],
   "metadata": {
    "collapsed": false,
    "pycharm": {
     "name": "#%%\n"
    }
   }
  },
  {
   "cell_type": "code",
   "execution_count": 49,
   "outputs": [
    {
     "data": {
      "text/plain": "0.0"
     },
     "execution_count": 49,
     "metadata": {},
     "output_type": "execute_result"
    }
   ],
   "source": [
    "t1 = time.time()\n",
    "for i in range(100):\n",
    "    word_list = ['food', 'food', 'food']\n",
    "    word_embeddings = [conceptnet.concept_embedding[n] for n in word_list]\n",
    "    stacked_embeddings = torch.stack(word_embeddings)\n",
    "    v1 = torch.rand(300).repeat(stacked_embeddings.size(0), 1)\n",
    "    F.cosine_similarity(stacked_embeddings, v1, dim=1)\n",
    "t2 = time.time()\n",
    "(t2-t1)/100"
   ],
   "metadata": {
    "collapsed": false,
    "pycharm": {
     "name": "#%%\n"
    }
   }
  },
  {
   "cell_type": "code",
   "execution_count": 75,
   "outputs": [
    {
     "name": "stdout",
     "output_type": "stream",
     "text": [
      "3.397620242574941e-05\n"
     ]
    },
    {
     "data": {
      "text/plain": "0"
     },
     "execution_count": 75,
     "metadata": {},
     "output_type": "execute_result"
    }
   ],
   "source": [
    "conceptnet.bidirectional_reasoning(['home'], 'chicken', torch_calculation=False)"
   ],
   "metadata": {
    "collapsed": false,
    "pycharm": {
     "name": "#%%\n"
    }
   }
  },
  {
   "cell_type": "code",
   "execution_count": 76,
   "metadata": {
    "pycharm": {
     "name": "#%%\n"
    }
   },
   "outputs": [
    {
     "name": "stdout",
     "output_type": "stream",
     "text": [
      "8.984844887347581e-06\n"
     ]
    },
    {
     "data": {
      "text/plain": "<networkx.classes.graph.Graph at 0x218d15e3910>"
     },
     "execution_count": 76,
     "metadata": {},
     "output_type": "execute_result"
    }
   ],
   "source": [
    "conceptnet.bidirectional_reasoning(['home', 'food'], 'chicken', torch_calculation=True)"
   ]
  },
  {
   "cell_type": "code",
   "execution_count": 79,
   "outputs": [
    {
     "data": {
      "text/plain": "4"
     },
     "execution_count": 79,
     "metadata": {},
     "output_type": "execute_result"
    }
   ],
   "source": [
    "a = 4\n",
    "if False:\n",
    "    a = 3\n",
    "a"
   ],
   "metadata": {
    "collapsed": false,
    "pycharm": {
     "name": "#%%\n"
    }
   }
  },
  {
   "cell_type": "code",
   "execution_count": null,
   "outputs": [],
   "source": [
    "f = open('../Training/Data/tgconv_train.json')"
   ],
   "metadata": {
    "collapsed": false,
    "pycharm": {
     "name": "#%%\n"
    }
   }
  },
  {
   "cell_type": "markdown",
   "metadata": {},
   "source": [
    "## Most Relevant Concepts"
   ]
  },
  {
   "cell_type": "code",
   "execution_count": 3,
   "metadata": {
    "pycharm": {
     "name": "#%%\n"
    }
   },
   "outputs": [
    {
     "name": "stdout",
     "output_type": "stream",
     "text": [
      "{0: {'rel': 'isa', 'weight': 2.0}, 1: {'rel': 'relatedto', 'weight': 0.09375585974123382}, 2: {'rel': 'relatedto', 'weight': 1.0}}\n",
      "[0.28868360277136257, 0.28868360277136257, 0.3639998195185976, 0.3834355828220859, 0.49224013331582106, 0.49877783659272334, 0.5, 0.507137973864777, 0.5122971984779815, 0.5129334385455407]\n",
      "61.62500286102295 s\n"
     ]
    }
   ],
   "source": [
    "start_concept = 'food'\n",
    "\n",
    "print(conceptnet.conceptnet['food']['cake'])\n",
    "\n",
    "# def min_relations(rels):\n",
    "#     result = []\n",
    "#     for k in rels:\n",
    "#         rel = rels[k]\n",
    "#         min_weight = min([rel[t]['weight'] for t in rel])\n",
    "#         result.append({'tail': k, 'weight': min_weight})\n",
    "#\n",
    "#     return result\n",
    "\n",
    "start_time = time.time()\n",
    "# neighbours = conceptnet.conceptnet[start_concept]\n",
    "# min_rels = min_relations(neighbours)\n",
    "# min_rels = sorted(min_rels, key=lambda x: x['weight'])\n",
    "min_rels = conceptnet.min_neighbour_target(start_concept, 'hotel')\n",
    "top_concepts = [t['w'] for t in min_rels[:10]]\n",
    "end_time = time.time()\n",
    "print(top_concepts)\n",
    "print(end_time-start_time,'s')"
   ]
  },
  {
   "cell_type": "markdown",
   "metadata": {},
   "source": [
    "### Reasoning Size"
   ]
  },
  {
   "cell_type": "code",
   "execution_count": 10,
   "metadata": {
    "pycharm": {
     "name": "#%%\n"
    }
   },
   "outputs": [
    {
     "name": "stdout",
     "output_type": "stream",
     "text": [
      "1312\n",
      "52933\n",
      "341322\n"
     ]
    },
    {
     "ename": "KeyboardInterrupt",
     "evalue": "",
     "output_type": "error",
     "traceback": [
      "\u001B[1;31m---------------------------------------------------------------------------\u001B[0m",
      "\u001B[1;31mKeyboardInterrupt\u001B[0m                         Traceback (most recent call last)",
      "Cell \u001B[1;32mIn [10], line 11\u001B[0m\n\u001B[0;32m      9\u001B[0m     \u001B[38;5;28;01mif\u001B[39;00m head_entity \u001B[38;5;129;01min\u001B[39;00m surrounding_concepts:\n\u001B[0;32m     10\u001B[0m         \u001B[38;5;28;01mcontinue\u001B[39;00m\n\u001B[1;32m---> 11\u001B[0m     \u001B[43msurrounding_concepts\u001B[49m\u001B[38;5;241;43m.\u001B[39;49m\u001B[43mappend\u001B[49m(head_entity)\n\u001B[0;32m     12\u001B[0m     t\u001B[38;5;241m.\u001B[39mextend(conceptnet\u001B[38;5;241m.\u001B[39madjacent(head_entity))\n\u001B[0;32m     13\u001B[0m t \u001B[38;5;241m=\u001B[39m \u001B[38;5;28mlist\u001B[39m(\u001B[38;5;28mset\u001B[39m(t))\n",
      "\u001B[1;31mKeyboardInterrupt\u001B[0m: "
     ]
    }
   ],
   "source": [
    "s = [start_concept]\n",
    "hops = 5\n",
    "\n",
    "surrounding_concepts = []\n",
    "for i in range(hops):\n",
    "    t = []\n",
    "    while len(s) != 0:\n",
    "        head_entity = s.pop(0)\n",
    "        if head_entity in surrounding_concepts:\n",
    "            continue\n",
    "        surrounding_concepts.append(head_entity)\n",
    "        t.extend(conceptnet.adjacent(head_entity))\n",
    "    t = list(set(t))\n",
    "    print(len(t))\n",
    "    s = t\n",
    "\n",
    "print(len(surrounding_concepts))"
   ]
  },
  {
   "cell_type": "markdown",
   "metadata": {},
   "source": [
    "### Bidirectional Reasoning"
   ]
  },
  {
   "cell_type": "markdown",
   "metadata": {},
   "source": [
    "### Embedding Efficiency Test"
   ]
  },
  {
   "cell_type": "code",
   "execution_count": 3,
   "metadata": {
    "pycharm": {
     "name": "#%%\n"
    }
   },
   "outputs": [
    {
     "name": "stdout",
     "output_type": "stream",
     "text": [
      "0.011010620594024658 s\n",
      "0.8444115519523621\n",
      "0.0005421233177185058 s\n",
      "0.8444117307662964\n"
     ]
    }
   ],
   "source": [
    "from sentence_transformers import SentenceTransformer, util\n",
    "import time\n",
    "\n",
    "\n",
    "# encoder efficiency test\n",
    "encoder = SentenceTransformer('sentence-transformers/sentence-t5-base')\n",
    "\n",
    "word_1 = 'apple'\n",
    "word_2 = 'food'\n",
    "\n",
    "embedding_result = 0\n",
    "\n",
    "start_time = time.time()\n",
    "word_2_encoded = encoder.encode(word_2, convert_to_tensor=True)\n",
    "for _ in range(100):\n",
    "    embedding_result = util.cos_sim(encoder.encode(word_1, convert_to_tensor=True), word_2_encoded).item()\n",
    "end_time = time.time()\n",
    "print((end_time-start_time)/100, 's')\n",
    "print(embedding_result)\n",
    "\n",
    "word_1s = [word_1] * 100\n",
    "start_time = time.time()\n",
    "word_1s_encoded = encoder.encode(word_1s, convert_to_tensor=True)\n",
    "word_2_encoded = encoder.encode(word_2, convert_to_tensor=True)\n",
    "for embedding in word_1s_encoded:\n",
    "    embedding_result = util.cos_sim(embedding, word_2_encoded).item()\n",
    "end_time = time.time()\n",
    "print((end_time-start_time)/100, 's')\n",
    "print(embedding_result)"
   ]
  },
  {
   "cell_type": "markdown",
   "metadata": {},
   "source": [
    "### SpaCy Efficiency Test"
   ]
  },
  {
   "cell_type": "code",
   "execution_count": 10,
   "metadata": {
    "pycharm": {
     "name": "#%%\n"
    }
   },
   "outputs": [
    {
     "name": "stdout",
     "output_type": "stream",
     "text": [
      "0.004716634750366211 s\n",
      "0.36073912418979215\n"
     ]
    }
   ],
   "source": [
    "import spacy\n",
    "\n",
    "nlp = spacy.load('en_core_web_lg')\n",
    "\n",
    "spacy_result = 0\n",
    "\n",
    "start_time = time.time()\n",
    "for _ in range(100):\n",
    "    doc_1 = nlp(word_1)\n",
    "    doc_2 = nlp(word_2)\n",
    "    spacy_result = doc_1.similarity(doc_2)\n",
    "end_time = time.time()\n",
    "print((end_time-start_time)/100, 's')\n",
    "print(spacy_result)"
   ]
  },
  {
   "cell_type": "markdown",
   "metadata": {},
   "source": [
    "### BFS Step Efficiency"
   ]
  },
  {
   "cell_type": "code",
   "execution_count": 12,
   "metadata": {
    "pycharm": {
     "name": "#%%\n"
    }
   },
   "outputs": [
    {
     "name": "stdout",
     "output_type": "stream",
     "text": [
      "neighbour concepts : 1312\n",
      "similarity calculation: 22.244969129562378s, average: 0.01695500695850791s\n",
      "sort calculation: 0.0s\n"
     ]
    }
   ],
   "source": [
    "initial_concept = \"food\"\n",
    "neighbour_concepts = conceptnet.adjacent(initial_concept)\n",
    "print(\"neighbour concepts : {}\".format(len(neighbour_concepts)))\n",
    "word_similarity = lambda w1, w2: util.cos_sim(encoder.encode(w1, convert_to_tensor=True), encoder.encode(w2, convert_to_tensor=True)).item()\n",
    "\n",
    "# similarity calculation\n",
    "sim_start = time.time()\n",
    "similarities = [{'word': w, 'sim': word_similarity(w, initial_concept)} for w in neighbour_concepts]\n",
    "sim_end = time.time()\n",
    "\n",
    "sim_consume = sim_end-sim_start\n",
    "print('similarity calculation: {}s, average: {}s'.format(sim_consume, sim_consume/len(neighbour_concepts)))\n",
    "\n",
    "# sort\n",
    "sort_start = time.time()\n",
    "sorted(similarities, key=lambda x: x['sim'], reverse=True)\n",
    "sort_end = time.time()\n",
    "\n",
    "sort_consume = sort_end - sort_start\n",
    "print('sort calculation: {}s'.format(sort_consume))"
   ]
  },
  {
   "cell_type": "code",
   "execution_count": 9,
   "metadata": {
    "pycharm": {
     "name": "#%%\n"
    }
   },
   "outputs": [
    {
     "name": "stderr",
     "output_type": "stream",
     "text": [
      "  0%|          | 0/2 [00:00<?, ?it/s]"
     ]
    },
    {
     "name": "stdout",
     "output_type": "stream",
     "text": [
      "Stack Size: 3\n"
     ]
    },
    {
     "name": "stderr",
     "output_type": "stream",
     "text": [
      " 50%|█████     | 1/2 [00:01<00:01,  1.78s/it]"
     ]
    },
    {
     "name": "stdout",
     "output_type": "stream",
     "text": [
      "Stack Size: 26\n"
     ]
    },
    {
     "name": "stderr",
     "output_type": "stream",
     "text": [
      "100%|██████████| 2/2 [00:04<00:00,  2.31s/it]"
     ]
    },
    {
     "name": "stdout",
     "output_type": "stream",
     "text": [
      "sort consumption: 0.0030059814453125s\n",
      "encode consumption: 2.517155408859253s\n",
      "similarity calculation consumption: 1.8236331939697266s\n"
     ]
    },
    {
     "name": "stderr",
     "output_type": "stream",
     "text": [
      "\n"
     ]
    }
   ],
   "source": [
    "import Reasoning\n",
    "\n",
    "graph = Reasoning.bidirectional_reasoning(conceptnet, ['home', 'food', 'animal'], 'family', K=5, hops=2)"
   ]
  },
  {
   "cell_type": "code",
   "execution_count": 10,
   "metadata": {
    "pycharm": {
     "name": "#%%\n"
    }
   },
   "outputs": [
    {
     "name": "stdout",
     "output_type": "stream",
     "text": [
      "Graph with 146 nodes and 184 edges\n"
     ]
    },
    {
     "data": {
      "image/png": "[encoded data removed]",
      "text/plain": [
       "<Figure size 640x480 with 1 Axes>"
      ]
     },
     "metadata": {},
     "output_type": "display_data"
    }
   ],
   "source": [
    "print(graph)\n",
    "import matplotlib.pyplot as plt\n",
    "import networkx as nx\n",
    "\n",
    "nx.draw(graph, node_size=1)"
   ]
  },
  {
   "cell_type": "markdown",
   "metadata": {},
   "source": [
    "## Graph Encoder GCN"
   ]
  },
  {
   "cell_type": "code",
   "execution_count": 2,
   "metadata": {
    "pycharm": {
     "name": "#%%\n"
    }
   },
   "outputs": [],
   "source": [
    "import torch\n",
    "import torch.nn as nn\n",
    "import torch.nn.functional as F\n",
    "import networkx as nx\n",
    "import numpy as np"
   ]
  },
  {
   "cell_type": "markdown",
   "metadata": {},
   "source": [
    "### Adjacent Graph and Feature Graph"
   ]
  },
  {
   "cell_type": "code",
   "execution_count": 7,
   "metadata": {
    "pycharm": {
     "name": "#%%\n"
    }
   },
   "outputs": [
    {
     "name": "stdout",
     "output_type": "stream",
     "text": [
      "[[0 1 0 ... 0 0 0]\n",
      " [1 0 1 ... 0 0 0]\n",
      " [0 1 0 ... 0 0 0]\n",
      " ...\n",
      " [0 0 0 ... 0 0 0]\n",
      " [0 0 0 ... 0 0 0]\n",
      " [0 0 0 ... 0 0 0]]\n",
      "[]\n"
     ]
    }
   ],
   "source": [
    "# graph = conceptnet.conceptnet\n",
    "\n",
    "adjacency_matrix = nx.adjacency_matrix(graph)\n",
    "adjacency_matrix = adjacency_matrix.todense()\n",
    "\n",
    "# Convert the graph nodes' attributes to a feature matrix\n",
    "feature_matrix = np.array([list(graph.nodes[node].values()) for node in graph.nodes()])\n",
    "\n",
    "print(adjacency_matrix)\n",
    "print(feature_matrix)"
   ]
  },
  {
   "cell_type": "markdown",
   "metadata": {},
   "source": [
    "## BERT Encoder"
   ]
  },
  {
   "cell_type": "code",
   "execution_count": 9,
   "metadata": {
    "pycharm": {
     "name": "#%%\n"
    }
   },
   "outputs": [
    {
     "name": "stderr",
     "output_type": "stream",
     "text": [
      "Some weights of the model checkpoint at bert-base-uncased were not used when initializing BertModel: ['cls.predictions.bias', 'cls.predictions.transform.LayerNorm.weight', 'cls.predictions.transform.dense.weight', 'cls.predictions.transform.dense.bias', 'cls.seq_relationship.bias', 'cls.seq_relationship.weight', 'cls.predictions.transform.LayerNorm.bias', 'cls.predictions.decoder.weight']\n",
      "- This IS expected if you are initializing BertModel from the checkpoint of a model trained on another task or with another architecture (e.g. initializing a BertForSequenceClassification model from a BertForPreTraining model).\n",
      "- This IS NOT expected if you are initializing BertModel from the checkpoint of a model that you expect to be exactly identical (initializing a BertForSequenceClassification model from a BertForSequenceClassification model).\n"
     ]
    },
    {
     "name": "stdout",
     "output_type": "stream",
     "text": [
      "torch.Size([512, 768])\n",
      "tensor([[-0.0788, -0.0266, -0.1045,  ..., -0.2922,  0.1836,  0.5880],\n",
      "        [ 0.0378, -0.4185, -0.1285,  ..., -0.3039,  1.0848,  0.4501],\n",
      "        [ 0.0262, -0.0521, -0.6017,  ..., -0.2632,  0.4129,  0.7955],\n",
      "        ...,\n",
      "        [-0.0138, -0.3783,  0.1694,  ...,  0.7582,  0.0551, -0.4463],\n",
      "        [-0.0945, -0.3555,  0.2154,  ...,  0.7831,  0.1306, -0.4165],\n",
      "        [-0.0541, -0.3674,  0.5777,  ...,  0.4519,  0.1952, -0.2486]])\n"
     ]
    }
   ],
   "source": [
    "import torch\n",
    "from transformers import BertTokenizer, BertModel\n",
    "\n",
    "# Load the pre-trained BERT model and tokenizer\n",
    "tokenizer = BertTokenizer.from_pretrained('bert-base-uncased')\n",
    "model = BertModel.from_pretrained('bert-base-uncased')\n",
    "\n",
    "# Function to encode conversation context using BERT with padding and attention masks\n",
    "def encode_context(context):\n",
    "    # Tokenize the conversation context\n",
    "    tokens = []\n",
    "    attention_masks = []\n",
    "\n",
    "    for sentence in context:\n",
    "        tokenized_sentence = tokenizer.encode(sentence, add_special_tokens=True)\n",
    "        tokens.extend(tokenized_sentence)\n",
    "        attention_masks.extend([1] * len(tokenized_sentence))\n",
    "\n",
    "    # Pad or truncate the tokens and attention masks to a fixed length\n",
    "    max_length = max(len(tokens), tokenizer.max_model_input_sizes['bert-base-uncased'])\n",
    "    padded_tokens = tokens + [tokenizer.pad_token_id] * (max_length - len(tokens))\n",
    "    padded_attention_masks = attention_masks + [0] * (max_length - len(attention_masks))\n",
    "\n",
    "    # Convert tokens and attention masks to PyTorch tensors\n",
    "    input_ids = torch.tensor([padded_tokens])\n",
    "    attention_mask = torch.tensor([padded_attention_masks])\n",
    "\n",
    "    # Generate the BERT embeddings\n",
    "    with torch.no_grad():\n",
    "        outputs = model(input_ids, attention_mask=attention_mask)\n",
    "        embeddings = outputs[0][0]  # First element of the outputs tuple (sequence of hidden states)\n",
    "\n",
    "    return embeddings\n",
    "\n",
    "# Example usage\n",
    "context = [\"User: Hello, how are you?\", \"Chatbot: I'm doing well, thank you!\"]\n",
    "embeddings = encode_context(context)\n",
    "\n",
    "print(embeddings.shape)  # Shape: (max_length, hidden_size) e.g., (512, 768) for BERT-base\n",
    "print(embeddings)"
   ]
  },
  {
   "cell_type": "markdown",
   "metadata": {},
   "source": [
    "## ConceptNet Numberbatch"
   ]
  },
  {
   "cell_type": "code",
   "execution_count": 22,
   "metadata": {
    "pycharm": {
     "name": "#%%\n"
    }
   },
   "outputs": [
    {
     "name": "stderr",
     "output_type": "stream",
     "text": [
      "100%|██████████| 516783/516783 [00:31<00:00, 16414.58it/s]\n",
      "IOPub data rate exceeded.\n",
      "The notebook server will temporarily stop sending output\n",
      "to the client in order to avoid crashing it.\n",
      "To change this limit, set the config variable\n",
      "`--NotebookApp.iopub_data_rate_limit`.\n",
      "\n",
      "Current values:\n",
      "NotebookApp.iopub_data_rate_limit=1000000.0 (bytes/sec)\n",
      "NotebookApp.rate_limit_window=3.0 (secs)\n",
      "\n"
     ]
    }
   ],
   "source": [
    "from tqdm import tqdm\n",
    "\n",
    "f = open('Data/numberbatch-en.txt', encoding='utf-8')\n",
    "lines = f.readlines()\n",
    "\n",
    "number_batch_embeddings = {}\n",
    "for line in tqdm(lines):\n",
    "    word, embedding = line.split(' ', 1)\n",
    "    if '_' in word or not word.isalpha():\n",
    "         continue\n",
    "    embedding = [float(emb) for emb in embedding.split(' ')]\n",
    "    number_batch_embeddings[word] = embedding\n",
    "\n",
    "print(number_batch_embeddings)"
   ]
  },
  {
   "cell_type": "code",
   "execution_count": 23,
   "outputs": [
    {
     "name": "stdout",
     "output_type": "stream",
     "text": [
      "361056\n"
     ]
    }
   ],
   "source": [
    "print(len(number_batch_embeddings))"
   ],
   "metadata": {
    "collapsed": false,
    "pycharm": {
     "name": "#%%\n"
    }
   }
  },
  {
   "cell_type": "code",
   "execution_count": 19,
   "metadata": {
    "pycharm": {
     "name": "#%%\n"
    }
   },
   "outputs": [
    {
     "name": "stdout",
     "output_type": "stream",
     "text": [
      "tensor(0.9056)\n",
      "300\n"
     ]
    }
   ],
   "source": [
    "import torch\n",
    "import torch.nn.functional as F\n",
    "\n",
    "\n",
    "apple = torch.FloatTensor(number_batch_embeddings['iron'])\n",
    "fruit = torch.FloatTensor(number_batch_embeddings['gamma_iron'])\n",
    "\n",
    "print(F.cosine_similarity(apple, fruit, dim=0))\n",
    "print(len(number_batch_embeddings['apple']))"
   ]
  },
  {
   "cell_type": "markdown",
   "source": [
    "## Universal Sentence Encoder"
   ],
   "metadata": {
    "collapsed": false
   }
  },
  {
   "cell_type": "code",
   "execution_count": 1,
   "outputs": [],
   "source": [
    "import tensorflow as tf\n",
    "import tensorflow_hub as hub\n",
    "import numpy as np"
   ],
   "metadata": {
    "collapsed": false,
    "pycharm": {
     "name": "#%%\n"
    }
   }
  },
  {
   "cell_type": "code",
   "execution_count": 2,
   "outputs": [],
   "source": [
    "model_url = \"https://tfhub.dev/google/universal-sentence-encoder-large/5\"\n",
    "\n",
    "USE = hub.load(model_url)"
   ],
   "metadata": {
    "collapsed": false,
    "pycharm": {
     "name": "#%%\n"
    }
   }
  },
  {
   "cell_type": "code",
   "execution_count": 5,
   "outputs": [
    {
     "name": "stdout",
     "output_type": "stream",
     "text": [
      "<class 'numpy.ndarray'>\n",
      "0.7616016\n",
      "(2, 512)\n"
     ]
    }
   ],
   "source": [
    "# Example sentences to encode\n",
    "sentences = [\n",
    "    \"I like to program.\",\n",
    "    \"I love programming.\",\n",
    "]\n",
    "\n",
    "sentence_embeddings = USE(sentences)\n",
    "corr = np.inner(sentence_embeddings[0], sentence_embeddings[1])\n",
    "print(type(sentence_embeddings[0].numpy()))\n",
    "\n",
    "print(corr)\n",
    "print(sentence_embeddings.shape)"
   ],
   "metadata": {
    "collapsed": false,
    "pycharm": {
     "name": "#%%\n"
    }
   }
  },
  {
   "cell_type": "markdown",
   "source": [
    "## Reinforcement Learning State Definition"
   ],
   "metadata": {
    "collapsed": false
   }
  },
  {
   "cell_type": "code",
   "execution_count": null,
   "outputs": [],
   "source": [],
   "metadata": {
    "collapsed": false,
    "pycharm": {
     "name": "#%%\n"
    }
   }
  }
 ],
 "metadata": {
  "kernelspec": {
   "display_name": "Python 3 (ipykernel)",
   "language": "python",
   "name": "python3"
  },
  "language_info": {
   "codemirror_mode": {
    "name": "ipython",
    "version": 3
   },
   "file_extension": ".py",
   "mimetype": "text/x-python",
   "name": "python",
   "nbconvert_exporter": "python",
   "pygments_lexer": "ipython3",
   "version": "3.9.7"
  }
 },
 "nbformat": 4,
 "nbformat_minor": 1
}